{
 "cells": [
  {
   "cell_type": "code",
   "execution_count": 78,
   "id": "3efbee9f-599f-4c13-a6e2-755be1896c17",
   "metadata": {},
   "outputs": [
    {
     "data": {
      "text/plain": [
       "PyObject <module 'matplotlib.pyplot' from '/home/edwinheny/anaconda3/lib/python3.9/site-packages/matplotlib/pyplot.py'>"
      ]
     },
     "execution_count": 78,
     "metadata": {},
     "output_type": "execute_result"
    }
   ],
   "source": [
    "# Implementación de los solvers iterativos Jacobi, Gauss-Seidel y SOR junto con el de CGM.\n",
    "using LinearAlgebra \n",
    "using BenchmarkTools\n",
    "using PyCall\n",
    "using PyPlot\n",
    "\n",
    "plt = pyimport(\"matplotlib.pyplot\")"
   ]
  },
  {
   "cell_type": "code",
   "execution_count": 16,
   "id": "ca287d18-c570-4daa-ad24-aecd6f560089",
   "metadata": {},
   "outputs": [
    {
     "data": {
      "text/plain": [
       "matrizSistema (generic function with 1 method)"
      ]
     },
     "execution_count": 16,
     "metadata": {},
     "output_type": "execute_result"
    }
   ],
   "source": [
    "##\n",
    "# Funciones para construir el sistema Ax = b. Se debe usar un número entero par\n",
    "# mayor que cero.\n",
    "# #\n",
    "\n",
    "##\n",
    "# Función que construye la matriz \"A\".\n",
    "##\n",
    "function matrizSistema( n )\n",
    "    M = Tridiagonal(-1*ones(n-1), 3*ones(n), -1*ones(n-1))\n",
    "    M = M + zeros(n,n)\n",
    "    for i = 1:n\n",
    "        if i != n/2 && i != n/2 + 1\n",
    "            M[i,n+1-i] = 0.5\n",
    "        end\n",
    "    end\n",
    "    return M\n",
    "end"
   ]
  },
  {
   "cell_type": "code",
   "execution_count": 17,
   "id": "ce78b95f-d228-43fe-885f-6021db6a97f0",
   "metadata": {},
   "outputs": [
    {
     "data": {
      "text/plain": [
       "vectorSistema (generic function with 1 method)"
      ]
     },
     "execution_count": 17,
     "metadata": {},
     "output_type": "execute_result"
    }
   ],
   "source": [
    "##\n",
    "# Función que construye el vector \"b\".\n",
    "## \n",
    "function vectorSistema(n)\n",
    "    b = zeros(n,1)\n",
    "    b[1] = 2.5\n",
    "    b[n] = 2.5\n",
    "    for i = 2:n-1\n",
    "        if i == n/2 || i == n/2+1\n",
    "            b[i] = 1\n",
    "        else\n",
    "            b[i] = 1.5\n",
    "        end\n",
    "    end\n",
    "    return b\n",
    "end"
   ]
  },
  {
   "cell_type": "code",
   "execution_count": 94,
   "id": "e7d35d86-0399-4a02-b99b-87943314fff7",
   "metadata": {},
   "outputs": [
    {
     "data": {
      "text/plain": [
       "metodo_jacobi (generic function with 1 method)"
      ]
     },
     "execution_count": 94,
     "metadata": {},
     "output_type": "execute_result"
    }
   ],
   "source": [
    "##\n",
    "# Funciones que implementan los métodos de Jacobi,\n",
    "# Gauss-Seidel, SOR y CGM.\n",
    "##\n",
    "\n",
    "##\n",
    "# Implementación del método de Jacobi\n",
    "##\n",
    "function metodo_jacobi(D, L, U, x0, iterMax, tol)\n",
    "    # Norma\n",
    "    normres_jacobi = []\n",
    "    x = x0\n",
    "\n",
    "    for j = 1:iterMax\n",
    "        x = inv(D)*(b-(L+U)*x)\n",
    "        normres_jacobi = [normres_jacobi; norm(b-A*x, Inf)]\n",
    "        if normres_jacobi[end] <= tol\n",
    "            println(\"Jacobi => Iteración máxima: \", j)\n",
    "            break\n",
    "        end\n",
    "    end\n",
    "\n",
    "    return x, normres_jacobi\n",
    "\n",
    "end"
   ]
  },
  {
   "cell_type": "code",
   "execution_count": 95,
   "id": "cf011990-742b-4b73-a7cb-701c4a23a584",
   "metadata": {},
   "outputs": [
    {
     "data": {
      "text/plain": [
       "metodo_gs (generic function with 1 method)"
      ]
     },
     "execution_count": 95,
     "metadata": {},
     "output_type": "execute_result"
    }
   ],
   "source": [
    "###\n",
    "# Implementación del método de Gauss-Seidel\n",
    "##\n",
    "function metodo_gs(D, L, U, x0, iterMax, tol)\n",
    "    # Norma\n",
    "    normres_gs = []\n",
    "    x = x0\n",
    "\n",
    "    for j = 1:iterMax\n",
    "        x = inv(D+L)*(b-U*x)\n",
    "        normres_gs = [normres_gs; norm(b-A*x, Inf)]\n",
    "        if normres_gs[end] <= tol\n",
    "            println(\"GS     => Iteración máxima: \", j)\n",
    "            break\n",
    "        end\n",
    "    end\n",
    "\n",
    "    return x, normres_gs\n",
    "\n",
    "end"
   ]
  },
  {
   "cell_type": "code",
   "execution_count": 96,
   "id": "968d2fdf-14a9-4d73-a6c7-03fe27f9fab2",
   "metadata": {},
   "outputs": [
    {
     "data": {
      "text/plain": [
       "metodo_sor (generic function with 1 method)"
      ]
     },
     "execution_count": 96,
     "metadata": {},
     "output_type": "execute_result"
    }
   ],
   "source": [
    "##\n",
    "# Implementación del método de SOR\n",
    "##\n",
    "function metodo_sor(D, L, U, x0, w, iterMax, tol)\n",
    "    # Norma\n",
    "    normres_sor = []\n",
    "    x = x0\n",
    "\n",
    "    for j = 1:iterMax\n",
    "        x = inv(w*L + D)*((1-w)D*x- w*U*x) + w*inv(D + w*L)*b\n",
    "        normres_sor = [normres_sor; norm(b-A*x, Inf)]\n",
    "        if normres_sor[end] <= tol\n",
    "            println(\"SOR    => Iteración máxima: \", j)\n",
    "            break\n",
    "        end\n",
    "    end\n",
    "\n",
    "    return x, normres_sor\n",
    "\n",
    "end"
   ]
  },
  {
   "cell_type": "code",
   "execution_count": 97,
   "id": "4220344e-4f21-4de1-a5ad-b8f310ce73a1",
   "metadata": {},
   "outputs": [
    {
     "data": {
      "text/plain": [
       "metodo_cgm (generic function with 1 method)"
      ]
     },
     "execution_count": 97,
     "metadata": {},
     "output_type": "execute_result"
    }
   ],
   "source": [
    "##\n",
    "# Implementación del método de CGM\n",
    "##\n",
    "\n",
    "function metodo_cgm(A, b, x0, tol)\n",
    "    x = x0\n",
    "    r = b - A*x\n",
    "    d = r\n",
    "    normres_cgm = []\n",
    "    for k = 1:length(b)\n",
    "        rTr = dot(r,r)\n",
    "        normres_cgm = [normres_cgm; norm(r, Inf)]\n",
    "        if normres_cgm[end] <= tol\n",
    "            println(\"CGM    => Iteración máxima: \", k)\n",
    "            break\n",
    "        end\n",
    "        alpha = rTr/dot(d,A*d)\n",
    "        x = x + alpha*d\n",
    "        r = r - alpha*A*d\n",
    "        betha = dot(r,r)/rTr\n",
    "        d = r + betha*d\n",
    "    end\n",
    "    return x, normres_cgm\n",
    "end"
   ]
  },
  {
   "cell_type": "code",
   "execution_count": 100,
   "id": "6b69341e-eded-4e96-88fc-4a967816178a",
   "metadata": {},
   "outputs": [],
   "source": [
    "##\n",
    "# Experimento Numérico\n",
    "##\n",
    "\n",
    "#Aquí se cambia el tamaño para obtener la matriz A y el vector b.\n",
    "# Solo ingresar números enteros positivos pares.\n",
    "A = matrizSistema( 100 )\n",
    "b = vectorSistema( 100 )\n",
    "iterMax = 10000000\n",
    "tol = 1e-8\n",
    "w = 1.13\n",
    "\n",
    "# Descomposición A = D + L + U\n",
    "D =  Diagonal(A)\n",
    "L = tril(A,-1)\n",
    "U = triu(A,1)\n",
    "\n",
    "# Vector inicial x0\n",
    "x0 = zeros(size(b));"
   ]
  },
  {
   "cell_type": "code",
   "execution_count": 99,
   "id": "cc90c174-9ade-4c1d-b3a7-9903f267854d",
   "metadata": {},
   "outputs": [
    {
     "name": "stdout",
     "output_type": "stream",
     "text": [
      "Jacobi => Iteración máxima: 77\n",
      "El error es: 8.563995068655572e-9\n",
      "GS     => Iteración máxima: 49\n",
      "El error es: 8.853862309976535e-9\n",
      "SOR    => Iteración máxima: 38\n",
      "El error es: 8.303469911652428e-9\n",
      "CGM    => Iteración máxima: 19\n",
      "El error es: 8.201596050609967e-9\n"
     ]
    }
   ],
   "source": [
    "##\n",
    "# En este apartado se muestra el numéro de la iteración donde alcanza convergencia\n",
    "# cada uno de los métodos y además arroja el error, el residuo más pequeño obtenido.\n",
    "# xJ: solución aproximada Jacobi\n",
    "# xGS: solución aproximada Gaus-Seidel\n",
    "# xSOR: solución aproximada SOR\n",
    "# xCGM: solución aproximada CGM\n",
    "# normres_nombre-método: vector con los residuos obtenidos.\n",
    "\n",
    "xJ, normres_jacobi = metodo_jacobi( D, L, U, x0, iterMax, tol)\n",
    "println(\"El error es: \", minimum(normres_jacobi))\n",
    "\n",
    "xG, normres_gs = metodo_gs( D, L, U, x0, iterMax, tol )\n",
    "println(\"El error es: \", minimum(normres_gs))\n",
    "\n",
    "xS, normres_sor = metodo_sor( D, L, U, x0, w, iterMax, tol)\n",
    "println(\"El error es: \", minimum(normres_sor))\n",
    "\n",
    "xC, normres_cgm = metodo_cgm( A, b, x0, tol )\n",
    "println(\"El error es: \", minimum(normres_cgm))"
   ]
  },
  {
   "cell_type": "code",
   "execution_count": 92,
   "id": "4c0c57ac-433e-4bbb-a7bc-79411cb33cda",
   "metadata": {},
   "outputs": [
    {
     "data": {
      "image/png": "[encoded data removed]",
      "text/plain": [
       "Figure(PyObject <Figure size 640x480 with 1 Axes>)"
      ]
     },
     "metadata": {},
     "output_type": "display_data"
    },
    {
     "data": {
      "text/plain": [
       "PyObject Text(0.5, 1.0, 'Convergence of Jacobi iteration')"
      ]
     },
     "execution_count": 92,
     "metadata": {},
     "output_type": "execute_result"
    }
   ],
   "source": [
    "##\n",
    "# En este apartado se realizan las gráficas de los residuos vs las iteraciones.\n",
    "##\n",
    "\n",
    "plt.plot(normres_jacobi, color=\"red\", \"o-\")\n",
    "plt.grid(linestyle=\"-\")\n",
    "plt.xlabel(\"Iterations\")\n",
    "plt.ylabel(\"Residuals Jacobi\")\n",
    "plt.yscale(\"log\")\n",
    "plt.title(\"Convergence of Jacobi iteration\")"
   ]
  },
  {
   "cell_type": "code",
   "execution_count": 44,
   "id": "fc17ac85-1653-412b-a0d5-d356d78d08c3",
   "metadata": {},
   "outputs": [
    {
     "data": {
      "image/png": "[encoded data removed]",
      "text/plain": [
       "Figure(PyObject <Figure size 640x480 with 1 Axes>)"
      ]
     },
     "metadata": {},
     "output_type": "display_data"
    },
    {
     "data": {
      "text/plain": [
       "PyObject Text(0.5, 1.0, 'Convergence of GS iteration')"
      ]
     },
     "execution_count": 44,
     "metadata": {},
     "output_type": "execute_result"
    }
   ],
   "source": [
    "plt.plot(normres_gs, color=\"blue\", \"o-\")\n",
    "plt.grid(linestyle=\"-\")\n",
    "plt.xlabel(\"Iterations\")\n",
    "plt.ylabel(\"Residuals Gauss-Seidel\")\n",
    "plt.yscale(\"log\")\n",
    "plt.title(\"Convergence of GS iteration\")"
   ]
  },
  {
   "cell_type": "code",
   "execution_count": 45,
   "id": "3edbb8f3-6ef9-472a-9f9d-891eae6cf6c1",
   "metadata": {},
   "outputs": [
    {
     "data": {
      "image/png": "[encoded data removed]",
      "text/plain": [
       "Figure(PyObject <Figure size 640x480 with 1 Axes>)"
      ]
     },
     "metadata": {},
     "output_type": "display_data"
    },
    {
     "data": {
      "text/plain": [
       "PyObject Text(0.5, 1.0, 'Convergence of SOR iteration')"
      ]
     },
     "execution_count": 45,
     "metadata": {},
     "output_type": "execute_result"
    }
   ],
   "source": [
    "plt.plot(normres_sor, color=\"darkorange\", \"o-\")\n",
    "plt.grid(linestyle=\"-\")\n",
    "plt.xlabel(\"Iterations\")\n",
    "plt.ylabel(\"Residuals SOR\")\n",
    "plt.yscale(\"log\")\n",
    "plt.title(\"Convergence of SOR iteration\")"
   ]
  },
  {
   "cell_type": "code",
   "execution_count": 46,
   "id": "23da3b2e-598c-4116-886f-a3ed0484767b",
   "metadata": {},
   "outputs": [
    {
     "data": {
      "image/png": "[encoded data removed]",
      "text/plain": [
       "Figure(PyObject <Figure size 640x480 with 1 Axes>)"
      ]
     },
     "metadata": {},
     "output_type": "display_data"
    },
    {
     "data": {
      "text/plain": [
       "PyObject Text(0.5, 1.0, 'Convergence of CGM iteration')"
      ]
     },
     "execution_count": 46,
     "metadata": {},
     "output_type": "execute_result"
    }
   ],
   "source": [
    "plt.plot(normres_cgm, color=\"green\", \"o-\")\n",
    "plt.grid(linestyle=\"-\")\n",
    "plt.xlabel(\"Iterations\")\n",
    "plt.ylabel(\"Residuals CGM\")\n",
    "plt.yscale(\"log\")\n",
    "plt.title(\"Convergence of CGM iteration\")"
   ]
  },
  {
   "cell_type": "markdown",
   "id": "ca291fd6-b1c4-4413-81e3-a887e1280a92",
   "metadata": {},
   "source": [
    "En este apartado se quita el código donde se imprime la iteración donde alcanzan la convergencia los métodos iterativos, para realizar el análisis de rendimiento."
   ]
  },
  {
   "cell_type": "code",
   "execution_count": 88,
   "id": "93cdaa95-b749-4f25-a1e3-567204802eda",
   "metadata": {},
   "outputs": [
    {
     "data": {
      "text/plain": [
       "metodo_jacobi (generic function with 1 method)"
      ]
     },
     "execution_count": 88,
     "metadata": {},
     "output_type": "execute_result"
    }
   ],
   "source": [
    "##\n",
    "# Funciones que implementan los métodos de Jacobi,\n",
    "# Gauss-Seidel, SOR y CGM.\n",
    "##\n",
    "\n",
    "##\n",
    "# Implementación del método de Jacobi\n",
    "##\n",
    "function metodo_jacobi(D, L, U, x0, iterMax, tol)\n",
    "    # Norma\n",
    "    normres_jacobi = []\n",
    "    x = x0\n",
    "\n",
    "    for j = 1:iterMax\n",
    "        x = inv(D)*(b-(L+U)*x)\n",
    "        normres_jacobi = [normres_jacobi; norm(b-A*x, Inf)]\n",
    "        if normres_jacobi[end] <= tol\n",
    "            break\n",
    "        end\n",
    "    end\n",
    "\n",
    "    return x, normres_jacobi\n",
    "\n",
    "end"
   ]
  },
  {
   "cell_type": "code",
   "execution_count": 89,
   "id": "310439b7-f3aa-412e-bc6d-fec4cf93301a",
   "metadata": {},
   "outputs": [
    {
     "data": {
      "text/plain": [
       "metodo_gs (generic function with 1 method)"
      ]
     },
     "execution_count": 89,
     "metadata": {},
     "output_type": "execute_result"
    }
   ],
   "source": [
    "###\n",
    "# Implementación del método de Gauss-Seidel\n",
    "##\n",
    "function metodo_gs(D, L, U, x0, iterMax, tol)\n",
    "    # Norma\n",
    "    normres_gs = []\n",
    "    x = x0\n",
    "\n",
    "    for j = 1:iterMax\n",
    "        x = inv(D+L)*(b-U*x)\n",
    "        normres_gs = [normres_gs; norm(b-A*x, Inf)]\n",
    "        if normres_gs[end] <= tol\n",
    "            break\n",
    "        end\n",
    "    end\n",
    "\n",
    "    return x, normres_gs\n",
    "\n",
    "end"
   ]
  },
  {
   "cell_type": "code",
   "execution_count": 90,
   "id": "4f098ca3-a59e-4c5d-8e08-dcf88c6dfc43",
   "metadata": {},
   "outputs": [
    {
     "data": {
      "text/plain": [
       "metodo_sor (generic function with 1 method)"
      ]
     },
     "execution_count": 90,
     "metadata": {},
     "output_type": "execute_result"
    }
   ],
   "source": [
    "##\n",
    "# Implementación del método de SOR\n",
    "##\n",
    "function metodo_sor(D, L, U, x0, w, iterMax, tol)\n",
    "    # Norma\n",
    "    normres_sor = []\n",
    "    x = x0\n",
    "\n",
    "    for j = 1:iterMax\n",
    "        x = inv(w*L + D)*((1-w)D*x- w*U*x) + w*inv(D + w*L)*b\n",
    "        normres_sor = [normres_sor; norm(b-A*x, Inf)]\n",
    "        if normres_sor[end] <= tol\n",
    "            break\n",
    "        end\n",
    "    end\n",
    "\n",
    "    return x, normres_sor\n",
    "\n",
    "end"
   ]
  },
  {
   "cell_type": "code",
   "execution_count": 91,
   "id": "06a06fc7-c81b-49ea-aae2-3f583d502c06",
   "metadata": {},
   "outputs": [
    {
     "data": {
      "text/plain": [
       "metodo_cgm (generic function with 1 method)"
      ]
     },
     "execution_count": 91,
     "metadata": {},
     "output_type": "execute_result"
    }
   ],
   "source": [
    "##\n",
    "# Implementación del método de CGM\n",
    "##\n",
    "\n",
    "function metodo_cgm(A, b, x0, tol)\n",
    "    x = x0\n",
    "    r = b - A*x\n",
    "    d = r\n",
    "    normres_cgm = []\n",
    "    for k = 1:length(b)\n",
    "        rTr = dot(r,r)\n",
    "        normres_cgm = [normres_cgm; norm(r, Inf)]\n",
    "        if normres_cgm[end] <= tol\n",
    "            break\n",
    "        end\n",
    "        alpha = rTr/dot(d,A*d)\n",
    "        x = x + alpha*d\n",
    "        r = r - alpha*A*d\n",
    "        betha = dot(r,r)/rTr\n",
    "        d = r + betha*d\n",
    "    end\n",
    "    return x, normres_cgm\n",
    "end"
   ]
  },
  {
   "cell_type": "code",
   "execution_count": 74,
   "id": "b218098c-cb3c-4944-8252-71a36f5800c0",
   "metadata": {},
   "outputs": [
    {
     "data": {
      "text/plain": [
       "BenchmarkTools.Trial: 100 samples with 1 evaluation.\n",
       " Range \u001b[90m(\u001b[39m\u001b[36m\u001b[1mmin\u001b[22m\u001b[39m … \u001b[35mmax\u001b[39m\u001b[90m):  \u001b[39m\u001b[36m\u001b[1m1.488 ms\u001b[22m\u001b[39m … \u001b[35m  5.654 ms\u001b[39m  \u001b[90m┊\u001b[39m GC \u001b[90m(\u001b[39mmin … max\u001b[90m): \u001b[39m0.00% …  0.00%\n",
       " Time  \u001b[90m(\u001b[39m\u001b[34m\u001b[1mmedian\u001b[22m\u001b[39m\u001b[90m):     \u001b[39m\u001b[34m\u001b[1m1.639 ms               \u001b[22m\u001b[39m\u001b[90m┊\u001b[39m GC \u001b[90m(\u001b[39mmedian\u001b[90m):    \u001b[39m0.00%\n",
       " Time  \u001b[90m(\u001b[39m\u001b[32m\u001b[1mmean\u001b[22m\u001b[39m ± \u001b[32mσ\u001b[39m\u001b[90m):   \u001b[39m\u001b[32m\u001b[1m1.977 ms\u001b[22m\u001b[39m ± \u001b[32m749.332 μs\u001b[39m  \u001b[90m┊\u001b[39m GC \u001b[90m(\u001b[39mmean ± σ\u001b[90m):  \u001b[39m7.78% ± 13.51%\n",
       "\n",
       "  \u001b[39m▅\u001b[39m█\u001b[39m▅\u001b[34m▃\u001b[39m\u001b[39m▂\u001b[39m▁\u001b[39m▂\u001b[39m \u001b[32m \u001b[39m\u001b[39m \u001b[39m \u001b[39m \u001b[39m \u001b[39m \u001b[39m \u001b[39m \u001b[39m \u001b[39m \u001b[39m \u001b[39m \u001b[39m \u001b[39m \u001b[39m \u001b[39m \u001b[39m \u001b[39m \u001b[39m \u001b[39m \u001b[39m \u001b[39m \u001b[39m \u001b[39m \u001b[39m \u001b[39m \u001b[39m \u001b[39m \u001b[39m \u001b[39m \u001b[39m \u001b[39m \u001b[39m \u001b[39m \u001b[39m \u001b[39m \u001b[39m \u001b[39m \u001b[39m \u001b[39m \u001b[39m \u001b[39m \u001b[39m \u001b[39m \u001b[39m \u001b[39m \u001b[39m \u001b[39m \u001b[39m \u001b[39m \u001b[39m \u001b[39m \u001b[39m \n",
       "  \u001b[39m█\u001b[39m█\u001b[39m█\u001b[34m█\u001b[39m\u001b[39m█\u001b[39m█\u001b[39m█\u001b[39m▇\u001b[32m▅\u001b[39m\u001b[39m▅\u001b[39m▅\u001b[39m▅\u001b[39m▁\u001b[39m▁\u001b[39m▁\u001b[39m▁\u001b[39m▁\u001b[39m▁\u001b[39m▇\u001b[39m▇\u001b[39m▇\u001b[39m▇\u001b[39m▅\u001b[39m▅\u001b[39m▁\u001b[39m▇\u001b[39m▅\u001b[39m▁\u001b[39m▁\u001b[39m▅\u001b[39m▁\u001b[39m▁\u001b[39m▅\u001b[39m▁\u001b[39m▅\u001b[39m▁\u001b[39m▁\u001b[39m▁\u001b[39m▁\u001b[39m▁\u001b[39m▁\u001b[39m▁\u001b[39m▁\u001b[39m▁\u001b[39m▁\u001b[39m▅\u001b[39m▅\u001b[39m▁\u001b[39m▁\u001b[39m▁\u001b[39m▁\u001b[39m▁\u001b[39m▁\u001b[39m▁\u001b[39m▁\u001b[39m▁\u001b[39m▁\u001b[39m▁\u001b[39m▅\u001b[39m \u001b[39m▅\n",
       "  1.49 ms\u001b[90m      \u001b[39m\u001b[90mHistogram: \u001b[39m\u001b[90m\u001b[1mlog(\u001b[22m\u001b[39m\u001b[90mfrequency\u001b[39m\u001b[90m\u001b[1m)\u001b[22m\u001b[39m\u001b[90m by time\u001b[39m      4.92 ms \u001b[0m\u001b[1m<\u001b[22m\n",
       "\n",
       " Memory estimate\u001b[90m: \u001b[39m\u001b[33m6.31 MiB\u001b[39m, allocs estimate\u001b[90m: \u001b[39m\u001b[33m1003\u001b[39m."
      ]
     },
     "execution_count": 74,
     "metadata": {},
     "output_type": "execute_result"
    }
   ],
   "source": [
    "BenchmarkTools.DEFAULT_PARAMETERS.samples = 100\n",
    "bJ = @benchmark metodo_jacobi( D, L, U, x0, iterMax, tol)"
   ]
  },
  {
   "cell_type": "code",
   "execution_count": 75,
   "id": "5c1b283c-850f-49e8-ae84-8aa811934240",
   "metadata": {},
   "outputs": [
    {
     "data": {
      "text/plain": [
       "BenchmarkTools.Trial: 100 samples with 1 evaluation.\n",
       " Range \u001b[90m(\u001b[39m\u001b[36m\u001b[1mmin\u001b[22m\u001b[39m … \u001b[35mmax\u001b[39m\u001b[90m):  \u001b[39m\u001b[36m\u001b[1m4.841 ms\u001b[22m\u001b[39m … \u001b[35m94.359 ms\u001b[39m  \u001b[90m┊\u001b[39m GC \u001b[90m(\u001b[39mmin … max\u001b[90m): \u001b[39m0.00% … 0.00%\n",
       " Time  \u001b[90m(\u001b[39m\u001b[34m\u001b[1mmedian\u001b[22m\u001b[39m\u001b[90m):     \u001b[39m\u001b[34m\u001b[1m7.420 ms              \u001b[22m\u001b[39m\u001b[90m┊\u001b[39m GC \u001b[90m(\u001b[39mmedian\u001b[90m):    \u001b[39m0.00%\n",
       " Time  \u001b[90m(\u001b[39m\u001b[32m\u001b[1mmean\u001b[22m\u001b[39m ± \u001b[32mσ\u001b[39m\u001b[90m):   \u001b[39m\u001b[32m\u001b[1m9.644 ms\u001b[22m\u001b[39m ± \u001b[32m10.077 ms\u001b[39m  \u001b[90m┊\u001b[39m GC \u001b[90m(\u001b[39mmean ± σ\u001b[90m):  \u001b[39m2.92% ± 6.19%\n",
       "\n",
       "  \u001b[39m▅\u001b[39m█\u001b[39m \u001b[39m \u001b[39m \u001b[34m▄\u001b[39m\u001b[39m \u001b[39m \u001b[32m \u001b[39m\u001b[39m \u001b[39m \u001b[39m \u001b[39m \u001b[39m \u001b[39m \u001b[39m \u001b[39m \u001b[39m \u001b[39m \u001b[39m \u001b[39m \u001b[39m \u001b[39m \u001b[39m \u001b[39m \u001b[39m \u001b[39m \u001b[39m \u001b[39m \u001b[39m \u001b[39m \u001b[39m \u001b[39m \u001b[39m \u001b[39m \u001b[39m \u001b[39m \u001b[39m \u001b[39m \u001b[39m \u001b[39m \u001b[39m \u001b[39m \u001b[39m \u001b[39m \u001b[39m \u001b[39m \u001b[39m \u001b[39m \u001b[39m \u001b[39m \u001b[39m \u001b[39m \u001b[39m \u001b[39m \u001b[39m \u001b[39m \u001b[39m \u001b[39m \u001b[39m \n",
       "  \u001b[39m█\u001b[39m█\u001b[39m▇\u001b[39m▇\u001b[39m▇\u001b[34m█\u001b[39m\u001b[39m▄\u001b[39m▄\u001b[32m▃\u001b[39m\u001b[39m▇\u001b[39m▆\u001b[39m▄\u001b[39m▁\u001b[39m▃\u001b[39m▁\u001b[39m▄\u001b[39m▄\u001b[39m▁\u001b[39m▃\u001b[39m▃\u001b[39m▃\u001b[39m▁\u001b[39m▁\u001b[39m▁\u001b[39m▁\u001b[39m▁\u001b[39m▃\u001b[39m▁\u001b[39m▁\u001b[39m▁\u001b[39m▃\u001b[39m▃\u001b[39m▁\u001b[39m▁\u001b[39m▁\u001b[39m▁\u001b[39m▁\u001b[39m▁\u001b[39m▁\u001b[39m▁\u001b[39m▁\u001b[39m▁\u001b[39m▁\u001b[39m▁\u001b[39m▁\u001b[39m▁\u001b[39m▁\u001b[39m▁\u001b[39m▁\u001b[39m▁\u001b[39m▁\u001b[39m▁\u001b[39m▁\u001b[39m▃\u001b[39m▁\u001b[39m▁\u001b[39m▁\u001b[39m▃\u001b[39m \u001b[39m▃\n",
       "  4.84 ms\u001b[90m        Histogram: frequency by time\u001b[39m        37.6 ms \u001b[0m\u001b[1m<\u001b[22m\n",
       "\n",
       " Memory estimate\u001b[90m: \u001b[39m\u001b[33m7.70 MiB\u001b[39m, allocs estimate\u001b[90m: \u001b[39m\u001b[33m639\u001b[39m."
      ]
     },
     "execution_count": 75,
     "metadata": {},
     "output_type": "execute_result"
    }
   ],
   "source": [
    "bGS = @benchmark metodo_gs( D, L, U, x0, iterMax, tol)"
   ]
  },
  {
   "cell_type": "code",
   "execution_count": 76,
   "id": "b4f5440d-0fac-48ce-8dcf-2d061e0dc43f",
   "metadata": {},
   "outputs": [
    {
     "data": {
      "text/plain": [
       "BenchmarkTools.Trial: 100 samples with 1 evaluation.\n",
       " Range \u001b[90m(\u001b[39m\u001b[36m\u001b[1mmin\u001b[22m\u001b[39m … \u001b[35mmax\u001b[39m\u001b[90m):  \u001b[39m\u001b[36m\u001b[1m 7.658 ms\u001b[22m\u001b[39m … \u001b[35m213.518 ms\u001b[39m  \u001b[90m┊\u001b[39m GC \u001b[90m(\u001b[39mmin … max\u001b[90m): \u001b[39m0.00% … 0.94%\n",
       " Time  \u001b[90m(\u001b[39m\u001b[34m\u001b[1mmedian\u001b[22m\u001b[39m\u001b[90m):     \u001b[39m\u001b[34m\u001b[1m12.547 ms               \u001b[22m\u001b[39m\u001b[90m┊\u001b[39m GC \u001b[90m(\u001b[39mmedian\u001b[90m):    \u001b[39m0.00%\n",
       " Time  \u001b[90m(\u001b[39m\u001b[32m\u001b[1mmean\u001b[22m\u001b[39m ± \u001b[32mσ\u001b[39m\u001b[90m):   \u001b[39m\u001b[32m\u001b[1m19.731 ms\u001b[22m\u001b[39m ± \u001b[32m 27.057 ms\u001b[39m  \u001b[90m┊\u001b[39m GC \u001b[90m(\u001b[39mmean ± σ\u001b[90m):  \u001b[39m4.26% ± 7.55%\n",
       "\n",
       "  \u001b[39m█\u001b[39m▆\u001b[34m▁\u001b[39m\u001b[39m \u001b[39m \u001b[32m \u001b[39m\u001b[39m \u001b[39m \u001b[39m \u001b[39m \u001b[39m \u001b[39m \u001b[39m \u001b[39m \u001b[39m \u001b[39m \u001b[39m \u001b[39m \u001b[39m \u001b[39m \u001b[39m \u001b[39m \u001b[39m \u001b[39m \u001b[39m \u001b[39m \u001b[39m \u001b[39m \u001b[39m \u001b[39m \u001b[39m \u001b[39m \u001b[39m \u001b[39m \u001b[39m \u001b[39m \u001b[39m \u001b[39m \u001b[39m \u001b[39m \u001b[39m \u001b[39m \u001b[39m \u001b[39m \u001b[39m \u001b[39m \u001b[39m \u001b[39m \u001b[39m \u001b[39m \u001b[39m \u001b[39m \u001b[39m \u001b[39m \u001b[39m \u001b[39m \u001b[39m \u001b[39m \u001b[39m \u001b[39m \u001b[39m \u001b[39m \n",
       "  \u001b[39m█\u001b[39m█\u001b[34m█\u001b[39m\u001b[39m█\u001b[39m▆\u001b[32m▄\u001b[39m\u001b[39m▅\u001b[39m▃\u001b[39m▄\u001b[39m▁\u001b[39m▃\u001b[39m▁\u001b[39m▃\u001b[39m▃\u001b[39m▃\u001b[39m▃\u001b[39m▁\u001b[39m▁\u001b[39m▁\u001b[39m▁\u001b[39m▁\u001b[39m▁\u001b[39m▁\u001b[39m▁\u001b[39m▁\u001b[39m▁\u001b[39m▁\u001b[39m▁\u001b[39m▁\u001b[39m▁\u001b[39m▁\u001b[39m▁\u001b[39m▁\u001b[39m▁\u001b[39m▁\u001b[39m▁\u001b[39m▁\u001b[39m▁\u001b[39m▁\u001b[39m▁\u001b[39m▁\u001b[39m▁\u001b[39m▁\u001b[39m▁\u001b[39m▁\u001b[39m▁\u001b[39m▁\u001b[39m▁\u001b[39m▁\u001b[39m▁\u001b[39m▃\u001b[39m▁\u001b[39m▁\u001b[39m▁\u001b[39m▁\u001b[39m▁\u001b[39m▁\u001b[39m▁\u001b[39m▁\u001b[39m▃\u001b[39m \u001b[39m▃\n",
       "  7.66 ms\u001b[90m         Histogram: frequency by time\u001b[39m          147 ms \u001b[0m\u001b[1m<\u001b[22m\n",
       "\n",
       " Memory estimate\u001b[90m: \u001b[39m\u001b[33m17.71 MiB\u001b[39m, allocs estimate\u001b[90m: \u001b[39m\u001b[33m1066\u001b[39m."
      ]
     },
     "execution_count": 76,
     "metadata": {},
     "output_type": "execute_result"
    }
   ],
   "source": [
    "bSOR = @benchmark metodo_sor( D, L, U, x0, w, iterMax, tol)"
   ]
  },
  {
   "cell_type": "code",
   "execution_count": 77,
   "id": "a9aa4e0d-6550-4d0d-8b7d-a5d648f23f3c",
   "metadata": {},
   "outputs": [
    {
     "data": {
      "text/plain": [
       "BenchmarkTools.Trial: 100 samples with 1 evaluation.\n",
       " Range \u001b[90m(\u001b[39m\u001b[36m\u001b[1mmin\u001b[22m\u001b[39m … \u001b[35mmax\u001b[39m\u001b[90m):  \u001b[39m\u001b[36m\u001b[1m221.200 μs\u001b[22m\u001b[39m … \u001b[35m  2.742 ms\u001b[39m  \u001b[90m┊\u001b[39m GC \u001b[90m(\u001b[39mmin … max\u001b[90m): \u001b[39m0.00% … 0.00%\n",
       " Time  \u001b[90m(\u001b[39m\u001b[34m\u001b[1mmedian\u001b[22m\u001b[39m\u001b[90m):     \u001b[39m\u001b[34m\u001b[1m237.650 μs               \u001b[22m\u001b[39m\u001b[90m┊\u001b[39m GC \u001b[90m(\u001b[39mmedian\u001b[90m):    \u001b[39m0.00%\n",
       " Time  \u001b[90m(\u001b[39m\u001b[32m\u001b[1mmean\u001b[22m\u001b[39m ± \u001b[32mσ\u001b[39m\u001b[90m):   \u001b[39m\u001b[32m\u001b[1m473.181 μs\u001b[22m\u001b[39m ± \u001b[32m542.912 μs\u001b[39m  \u001b[90m┊\u001b[39m GC \u001b[90m(\u001b[39mmean ± σ\u001b[90m):  \u001b[39m0.00% ± 0.00%\n",
       "\n",
       "  \u001b[34m█\u001b[39m\u001b[39m \u001b[39m \u001b[39m \u001b[39m \u001b[39m \u001b[32m \u001b[39m\u001b[39m \u001b[39m \u001b[39m \u001b[39m \u001b[39m \u001b[39m \u001b[39m \u001b[39m \u001b[39m \u001b[39m \u001b[39m \u001b[39m \u001b[39m \u001b[39m \u001b[39m \u001b[39m \u001b[39m \u001b[39m \u001b[39m \u001b[39m \u001b[39m \u001b[39m \u001b[39m \u001b[39m \u001b[39m \u001b[39m \u001b[39m \u001b[39m \u001b[39m \u001b[39m \u001b[39m \u001b[39m \u001b[39m \u001b[39m \u001b[39m \u001b[39m \u001b[39m \u001b[39m \u001b[39m \u001b[39m \u001b[39m \u001b[39m \u001b[39m \u001b[39m \u001b[39m \u001b[39m \u001b[39m \u001b[39m \u001b[39m \u001b[39m \u001b[39m \u001b[39m \u001b[39m \u001b[39m \u001b[39m \u001b[39m \n",
       "  \u001b[34m█\u001b[39m\u001b[39m▇\u001b[39m▁\u001b[39m▁\u001b[39m▁\u001b[39m▁\u001b[32m▄\u001b[39m\u001b[39m▄\u001b[39m▄\u001b[39m▁\u001b[39m▁\u001b[39m▁\u001b[39m▁\u001b[39m▆\u001b[39m▆\u001b[39m▄\u001b[39m▁\u001b[39m▄\u001b[39m▆\u001b[39m▁\u001b[39m▁\u001b[39m▁\u001b[39m▄\u001b[39m▁\u001b[39m▁\u001b[39m▄\u001b[39m▇\u001b[39m▄\u001b[39m▁\u001b[39m▁\u001b[39m▁\u001b[39m▆\u001b[39m▁\u001b[39m▁\u001b[39m▁\u001b[39m▁\u001b[39m▁\u001b[39m▁\u001b[39m▁\u001b[39m▁\u001b[39m▁\u001b[39m▁\u001b[39m▁\u001b[39m▁\u001b[39m▁\u001b[39m▁\u001b[39m▁\u001b[39m▁\u001b[39m▁\u001b[39m▁\u001b[39m▁\u001b[39m▁\u001b[39m▄\u001b[39m▁\u001b[39m▁\u001b[39m▁\u001b[39m▄\u001b[39m▁\u001b[39m▁\u001b[39m▁\u001b[39m▄\u001b[39m \u001b[39m▄\n",
       "  221 μs\u001b[90m        \u001b[39m\u001b[90mHistogram: \u001b[39m\u001b[90m\u001b[1mlog(\u001b[22m\u001b[39m\u001b[90mfrequency\u001b[39m\u001b[90m\u001b[1m)\u001b[22m\u001b[39m\u001b[90m by time\u001b[39m       2.69 ms \u001b[0m\u001b[1m<\u001b[22m\n",
       "\n",
       " Memory estimate\u001b[90m: \u001b[39m\u001b[33m115.12 KiB\u001b[39m, allocs estimate\u001b[90m: \u001b[39m\u001b[33m187\u001b[39m."
      ]
     },
     "execution_count": 77,
     "metadata": {},
     "output_type": "execute_result"
    }
   ],
   "source": [
    "bCGM = @benchmark metodo_cgm( A, b, x0, tol )"
   ]
  },
  {
   "cell_type": "code",
   "execution_count": null,
   "id": "9316bd6b-b43a-4d88-aa23-5ed43116b99d",
   "metadata": {},
   "outputs": [],
   "source": []
  }
 ],
 "metadata": {
  "kernelspec": {
   "display_name": "Julia 1.7.2",
   "language": "julia",
   "name": "julia-1.7"
  },
  "language_info": {
   "file_extension": ".jl",
   "mimetype": "application/julia",
   "name": "julia",
   "version": "1.7.2"
  }
 },
 "nbformat": 4,
 "nbformat_minor": 5
}
