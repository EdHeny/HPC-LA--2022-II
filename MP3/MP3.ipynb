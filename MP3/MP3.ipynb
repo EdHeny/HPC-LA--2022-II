{
 "cells": [
  {
   "cell_type": "code",
   "execution_count": 12,
   "id": "88359a80-33bb-490b-afda-2685a62435a6",
   "metadata": {},
   "outputs": [],
   "source": [
    "using LinearAlgebra \n",
    "using BenchmarkTools"
   ]
  },
  {
   "cell_type": "code",
   "execution_count": 13,
   "id": "4623e01a-44dc-4d2d-87d4-89e02d7b1fd3",
   "metadata": {},
   "outputs": [
    {
     "data": {
      "text/plain": [
       "matrizSistema (generic function with 1 method)"
      ]
     },
     "execution_count": 13,
     "metadata": {},
     "output_type": "execute_result"
    }
   ],
   "source": [
    "##\n",
    "# Funciones para construir el sistema Ax = b. Se debe usar un número entero par\n",
    "# mayor que cero.\n",
    "# #\n",
    "\n",
    "##\n",
    "# Función que construye la matriz \"A\".\n",
    "##\n",
    "function matrizSistema( n )\n",
    "    M = Tridiagonal(-1*ones(n-1), 3*ones(n), -1*ones(n-1))\n",
    "    M = M + zeros(n,n)\n",
    "    for i = 1:n\n",
    "        if i != n/2 && i != n/2 + 1\n",
    "            M[i,n+1-i] = 0.5\n",
    "        end\n",
    "    end\n",
    "    return M\n",
    "end"
   ]
  },
  {
   "cell_type": "code",
   "execution_count": 14,
   "id": "ca4afa1b-002c-43f7-962e-bb14aa23cf23",
   "metadata": {},
   "outputs": [
    {
     "data": {
      "text/plain": [
       "vectorSistema (generic function with 1 method)"
      ]
     },
     "execution_count": 14,
     "metadata": {},
     "output_type": "execute_result"
    }
   ],
   "source": [
    "##\n",
    "# Función que construye el vector \"b\".\n",
    "## \n",
    "function vectorSistema(n)\n",
    "    b = zeros(n)\n",
    "    b[1] = 5/2\n",
    "    b[n] = 5/2\n",
    "    for i = 2:n-1\n",
    "        if i == n/2 || i == n/2+1\n",
    "            b[i] = 1\n",
    "        else\n",
    "            b[i] = 3/2\n",
    "        end\n",
    "    end\n",
    "    return b\n",
    "end"
   ]
  },
  {
   "cell_type": "code",
   "execution_count": 15,
   "id": "11549c09-009c-4883-aa9e-7f3078db1772",
   "metadata": {},
   "outputs": [
    {
     "data": {
      "text/plain": [
       "Matrix{Float64} (alias for Array{Float64, 2})"
      ]
     },
     "execution_count": 15,
     "metadata": {},
     "output_type": "execute_result"
    }
   ],
   "source": [
    "n = 30\n",
    "A = matrizSistema(n)\n",
    "b = vectorSistema(n)\n",
    "nA = norm(A);\n",
    "typeof(A)"
   ]
  },
  {
   "cell_type": "markdown",
   "id": "0a7dc08d-c44c-4f04-8ce0-256bd16cee0a",
   "metadata": {},
   "source": [
    "## Implementaciones\n",
    "A continuación se muestran diversas versiones del Método de Monte Carlo Cadenas de MArkov **(MCCM)** con la finalidad de evaluar la eficiencia y escalabilidad."
   ]
  },
  {
   "cell_type": "markdown",
   "id": "f9ffa2c9-43e5-4c2b-b554-c78a3070cc20",
   "metadata": {},
   "source": [
    "### MCCM con matriz de probabilidad in situ.\n",
    "Esta primera versión del método crea las matrices auxiliares y posteriormente son utilizadas como variables globales. Adicionalmente, para elegir los elementos de `T, f` y `P, Pi` necesarios para construir las cadenas de Markov se hace una suma acumulada de probabilidades cada vez que se calcula un elemento de cada cadena."
   ]
  },
  {
   "cell_type": "code",
   "execution_count": 16,
   "id": "3315fc21-2d05-46c7-93ba-06f5426be26c",
   "metadata": {},
   "outputs": [],
   "source": [
    "M = diagm(0 => diag(A))\n",
    "N = M-A\n",
    "T = inv(M) * N\n",
    "f = inv(M) * b\n",
    "nT, mT = size(T);"
   ]
  },
  {
   "cell_type": "code",
   "execution_count": 17,
   "id": "4b164179-0e54-487f-9843-9bdb27a40480",
   "metadata": {},
   "outputs": [],
   "source": [
    "S = fill(0, nT)\n",
    "P = fill(0., nT, mT) \n",
    "[S[i] += 1 for i in 1:nT, j in 1:mT if T[i,j] != 0]\n",
    "[P[i,j]= 1/S[i] for i in 1:nT, j in 1:mT if T[i,j] != 0 ]\n",
    "Pi = [1/nT for i in 1:nT];"
   ]
  },
  {
   "cell_type": "code",
   "execution_count": 18,
   "id": "690ad8ce-3694-4cdb-af22-9d144741a094",
   "metadata": {},
   "outputs": [
    {
     "data": {
      "text/plain": [
       "130.0"
      ]
     },
     "execution_count": 18,
     "metadata": {},
     "output_type": "execute_result"
    }
   ],
   "source": [
    "ϵ = 0.001\n",
    "δ = 0.1 \n",
    "Nc = floor((0.6745/δ)^2*((norm(f)^2)/(1-norm(T))^2)) + 1"
   ]
  },
  {
   "cell_type": "code",
   "execution_count": 41,
   "id": "dd76b6ff-ff1a-4f15-b2e3-90875690d438",
   "metadata": {},
   "outputs": [
    {
     "data": {
      "text/plain": [
       "mcmcalg1 (generic function with 1 method)"
      ]
     },
     "execution_count": 41,
     "metadata": {},
     "output_type": "execute_result"
    }
   ],
   "source": [
    "function mcmcalg1(ϵ, Nc) \n",
    "    Xs = fill(0., mT)\n",
    "    for i in 1:mT\n",
    "        W_0 = 1\n",
    "        for s in 1:Nc\n",
    "            W = W_0; k = 0; point = i; X = W_0 * f[i]\n",
    "            while abs(W) >= ϵ\n",
    "                nextpoint  = 1\n",
    "                u = rand()\n",
    "                while u >= sum(P[point, 1:nextpoint])  #probabilidad acumulada in-situ\n",
    "                    nextpoint = nextpoint + 1\n",
    "                end\n",
    "                k = k + 1\n",
    "                    W_new = W *(T[point, nextpoint]/P[point, nextpoint]) # T,P variables globales\n",
    "                    X = X + W_new * f[nextpoint] # f variables globales\n",
    "                point = nextpoint\n",
    "                W = W_new\n",
    "            end\n",
    "        Xs[i] += X\n",
    "        end\n",
    "    end\n",
    "    Xs = Xs/Nc\n",
    "end"
   ]
  },
  {
   "cell_type": "code",
   "execution_count": 42,
   "id": "4b812dff-1ca2-4b11-912d-543d1b6a00e2",
   "metadata": {},
   "outputs": [
    {
     "data": {
      "text/plain": [
       "BenchmarkTools.TrialEstimate: \n",
       "  time:             223.753 ms\n",
       "  gctime:           28.876 ms (12.91%)\n",
       "  memory:           337.95 MiB\n",
       "  allocs:           7501525"
      ]
     },
     "execution_count": 42,
     "metadata": {},
     "output_type": "execute_result"
    }
   ],
   "source": [
    "TEalg1 = minimum(@benchmark mcmcalg1(ϵ, Nc))"
   ]
  },
  {
   "cell_type": "markdown",
   "id": "238d1764-6e18-4072-84d8-a0b9465c055b",
   "metadata": {},
   "source": [
    "### MCCM con matriz de probabilidad acumulada fuera del algoritmo, variable global\n",
    "Se calcula la suma de probabilidad acumulada fuera del algoritmo `mcmc`. Continúa el uso de las matrices `T, Pa, P` y el vector `f` como variables globales."
   ]
  },
  {
   "cell_type": "code",
   "execution_count": 21,
   "id": "e7aa9156-836d-4e1c-8986-740a1921176b",
   "metadata": {},
   "outputs": [],
   "source": [
    "M = diagm(0 => diag(A))\n",
    "N = M-A\n",
    "T = inv(M) * N\n",
    "f = inv(M) * b\n",
    "nT, mT = size(T);"
   ]
  },
  {
   "cell_type": "code",
   "execution_count": 30,
   "id": "c0f0fa48-7d16-4ad3-bd81-887031339789",
   "metadata": {},
   "outputs": [],
   "source": [
    "S = fill(0, nT)\n",
    "Pa = P = fill(0., nT, mT)\n",
    "[S[i] += 1 for i in 1:nT, j in 1:mT if T[i,j] != 0]\n",
    "[P[i,j]= 1/S[i] for i in 1:nT, j in 1:mT if T[i,j] != 0 ]\n",
    "Pa = [accumulate(+, P[i, 1:mT]) for i in 1:nT]\n",
    "Pi = [1/nT for i in 1:nT];"
   ]
  },
  {
   "cell_type": "code",
   "execution_count": 43,
   "id": "e2d3de40-8b81-48f1-9b40-278edfb0eef4",
   "metadata": {},
   "outputs": [
    {
     "data": {
      "text/plain": [
       "mcmcalg2 (generic function with 1 method)"
      ]
     },
     "execution_count": 43,
     "metadata": {},
     "output_type": "execute_result"
    }
   ],
   "source": [
    "function mcmcalg2(ϵ, Nc)\n",
    "    Xs = fill(0., mT)\n",
    "    for i in 1:mT\n",
    "        W_0 = 1.0\n",
    "        for s in 1:Nc\n",
    "            W = W_0;  point = i; X = W_0 * f[i]\n",
    "            while abs(W) >= ϵ\n",
    "                nextpoint = 1\n",
    "                u = rand()\n",
    "                while u >= Pa[point][nextpoint]\n",
    "                    nextpoint += 1\n",
    "                end\n",
    "                    W_new = W *(T[point, nextpoint]/P[point,nextpoint])\n",
    "                    X += W_new * f[nextpoint]\n",
    "                point = nextpoint\n",
    "                W = W_new\n",
    "            end\n",
    "        Xs[i] += X\n",
    "        end\n",
    "    end\n",
    "    Xs = Xs/Nc\n",
    "end"
   ]
  },
  {
   "cell_type": "code",
   "execution_count": 44,
   "id": "a473c766-df95-435f-a26b-5f4645e707ca",
   "metadata": {},
   "outputs": [
    {
     "data": {
      "text/plain": [
       "BenchmarkTools.TrialEstimate: \n",
       "  time:             88.682 ms\n",
       "  gctime:           1.040 ms (1.17%)\n",
       "  memory:           64.65 MiB\n",
       "  allocs:           4237108"
      ]
     },
     "execution_count": 44,
     "metadata": {},
     "output_type": "execute_result"
    }
   ],
   "source": [
    "TEalg2 = minimum(@benchmark mcmcalg2(ϵ, Nc))"
   ]
  },
  {
   "cell_type": "markdown",
   "id": "1d5710d5-3440-409f-bfc3-7e15775d4452",
   "metadata": {},
   "source": [
    "### MCCM con variables locales.\n",
    "A continuación se envuelve en la función el cálculo de las matrices `M,N,T` y el vector `f` por lo que es necesrio enviar como argumentos de la función a la matriz `A` y el vector `b`."
   ]
  },
  {
   "cell_type": "code",
   "execution_count": 45,
   "id": "548806d2-4621-49ba-9533-aca82a509f11",
   "metadata": {},
   "outputs": [
    {
     "data": {
      "text/plain": [
       "mcmcalg3 (generic function with 1 method)"
      ]
     },
     "execution_count": 45,
     "metadata": {},
     "output_type": "execute_result"
    }
   ],
   "source": [
    "function mcmcalg3(ϵ, δ, A, b) \n",
    "    M = diagm(0 => diag(A))\n",
    "    N = M-A\n",
    "    T = inv(M) * N\n",
    "    f = inv(M) * b\n",
    "    nT, mT = size(T)\n",
    "    S = fill(0, nT)\n",
    "    Pa = P = fill(0., nT, mT) \n",
    "    [S[i] += 1 for i in 1:nT, j in 1:mT if T[i,j] != 0]\n",
    "    [P[i,j]= 1/S[i] for i in 1:nT, j in 1:mT if T[i,j] != 0 ]\n",
    "    Pa = [accumulate(+, P[i, 1:mT]) for i in 1:nT]\n",
    "    Pi = [1/nT for i in 1:nT];\n",
    "    Nc = floor((0.6745/δ)^2*((norm(f)^2)/(1-norm(T))^2)) + 1\n",
    "  \n",
    "    Xs = fill(0., mT)\n",
    "\n",
    "    for i in 1:mT\n",
    "        W_0 = 1\n",
    "        for s in 1:Nc\n",
    "            W = W_0; k = 0; point = i; X = W_0 * f[i]\n",
    "            while abs(W) >= ϵ\n",
    "                nextpoint  = 1\n",
    "                u = rand()\n",
    "                while u >= Pa[point][nextpoint]\n",
    "                    nextpoint = nextpoint + 1\n",
    "                end\n",
    "                k = k + 1\n",
    "                    W_new = W *(T[point, nextpoint]/P[point, nextpoint])\n",
    "                    X = X + W_new * f[nextpoint]\n",
    "                point = nextpoint\n",
    "                W = W_new\n",
    "            end\n",
    "        Xs[i] += X\n",
    "        end\n",
    "    end\n",
    "    Xs = Xs/Nc\n",
    "end"
   ]
  },
  {
   "cell_type": "code",
   "execution_count": 50,
   "id": "d8602d8f-f772-4289-a2d8-1689010a0e98",
   "metadata": {},
   "outputs": [
    {
     "data": {
      "text/plain": [
       "BenchmarkTools.TrialEstimate: \n",
       "  time:             4.923 ms\n",
       "  gctime:           0.000 ns (0.00%)\n",
       "  memory:           66.97 KiB\n",
       "  allocs:           83"
      ]
     },
     "execution_count": 50,
     "metadata": {},
     "output_type": "execute_result"
    }
   ],
   "source": [
    "TEalg3 = minimum(@benchmark mcmcalg3(ϵ, δ, A, b))"
   ]
  },
  {
   "cell_type": "markdown",
   "id": "706badcd-1a9d-4909-8068-6899fd36fc53",
   "metadata": {},
   "source": [
    "### MCCM con Matriz de probabilidad acumulada pre-build con envío de parámetros y type-anotations\n",
    "Se usan variables locales, se envÍan como argumentos la matriz `A` y el vector `b`. Se calcula la matriz de probabilidad acumulada fuera del algoritmo `mcmc` y se usan anotaciones de tipos."
   ]
  },
  {
   "cell_type": "code",
   "execution_count": 47,
   "id": "da2592fd-62eb-4db1-b4fd-492e0436d433",
   "metadata": {},
   "outputs": [
    {
     "data": {
      "text/plain": [
       "mcmcalg4 (generic function with 1 method)"
      ]
     },
     "execution_count": 47,
     "metadata": {},
     "output_type": "execute_result"
    }
   ],
   "source": [
    "function mcmcalg4(ϵ::Float64, δ::Float64, A::Matrix{Float64}, b::Vector{Float64})\n",
    "    M = diagm(0 => diag(A))\n",
    "    N = M-A\n",
    "    T = inv(M) * N\n",
    "    f = inv(M) * b\n",
    "    nT, mT = size(T)\n",
    "    S = fill(0, nT)\n",
    "    Pa = P = fill(0., nT, mT) \n",
    "    [S[i] += 1 for i in 1:nT, j in 1:mT if T[i,j] != 0]\n",
    "    [P[i,j]= 1/S[i] for i in 1:nT, j in 1:mT if T[i,j] != 0 ]\n",
    "    Pa = [accumulate(+, P[i, 1:mT]) for i in 1:nT]\n",
    "    Pi = [1/nT for i in 1:nT]\n",
    "    Nc = floor((0.6745/δ)^2*((norm(f)^2)/(1-norm(T))^2)) + 1\n",
    "    \n",
    "    Xs = fill(0., mT)\n",
    "    for i in 1:mT\n",
    "        W_0 = 1.0\n",
    "        for s in 1:Nc\n",
    "            W = W_0; point = i; X = W_0 * f[i]::Float64\n",
    "            while abs(W) >= ϵ\n",
    "                nextpoint  = 1::Int64\n",
    "                u = rand()::Float64\n",
    "                while u >= Pa[point][nextpoint]::Float64\n",
    "                    nextpoint = nextpoint + 1::Int64\n",
    "                end\n",
    "                    W_new = W *(T[point, nextpoint]/P[point, nextpoint])::Float64\n",
    "                    X = X + W_new * f[nextpoint]::Float64\n",
    "                point = nextpoint::Int64\n",
    "                W = W_new::Float64\n",
    "            end\n",
    "        Xs[i] += X::Float64\n",
    "        end\n",
    "    end\n",
    "    Xs = Xs/Nc::Float64\n",
    "end"
   ]
  },
  {
   "cell_type": "code",
   "execution_count": 49,
   "id": "ed02fa0a-281b-4d39-997b-d551b870d3fa",
   "metadata": {},
   "outputs": [
    {
     "data": {
      "text/plain": [
       "BenchmarkTools.TrialEstimate: \n",
       "  time:             4.129 ms\n",
       "  gctime:           0.000 ns (0.00%)\n",
       "  memory:           66.97 KiB\n",
       "  allocs:           83"
      ]
     },
     "execution_count": 49,
     "metadata": {},
     "output_type": "execute_result"
    }
   ],
   "source": [
    "TEalg4 = minimum(@benchmark mcmcalg4(ϵ, δ, A, b))"
   ]
  },
  {
   "cell_type": "code",
   "execution_count": null,
   "id": "3ddf48a9-2c25-4ce0-9f19-39fe98605b6e",
   "metadata": {},
   "outputs": [],
   "source": []
  }
 ],
 "metadata": {
  "kernelspec": {
   "display_name": "Julia 1.7.3",
   "language": "julia",
   "name": "julia-1.7"
  },
  "language_info": {
   "file_extension": ".jl",
   "mimetype": "application/julia",
   "name": "julia",
   "version": "1.7.3"
  }
 },
 "nbformat": 4,
 "nbformat_minor": 5
}
